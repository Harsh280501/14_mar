{
 "cells": [
  {
   "cell_type": "markdown",
   "id": "19e23b6b-df26-45a9-b7ea-05e020495dd2",
   "metadata": {},
   "source": [
    "Q1. Write a Python function that takes in two arrays of data and calculates the F-value for a variance ratio\n",
    "test. The function should return the F-value and the corresponding p-value for the test."
   ]
  },
  {
   "cell_type": "code",
   "execution_count": 5,
   "id": "281b122f-0199-439d-8ddf-7aa05faf5a7f",
   "metadata": {},
   "outputs": [
    {
     "name": "stdout",
     "output_type": "stream",
     "text": [
      "1.0833333333333335 0.5339258986028789\n"
     ]
    }
   ],
   "source": [
    "import numpy as np\n",
    "from scipy.stats import f\n",
    "\n",
    "def variance_ratio_test(data1, data2):\n",
    "    n1 = len(data1)\n",
    "    n2 = len(data2)\n",
    "    var1 = np.var(data1, ddof=1)\n",
    "    var2 = np.var(data2, ddof=1)\n",
    "    f_value = var1/var2\n",
    "    p_value = f.cdf(f_value, n1-1, n2-1)\n",
    "    return f_value, p_value\n",
    "\n",
    "\n",
    "a,b = variance_ratio_test([2,3,1,4,5,4],[8,6,7,6,5,4])\n",
    "print(a,b)"
   ]
  },
  {
   "cell_type": "code",
   "execution_count": null,
   "id": "738f60b9-0c2f-4247-9b14-c41493f01fed",
   "metadata": {},
   "outputs": [],
   "source": []
  },
  {
   "cell_type": "markdown",
   "id": "4fe63474-a1c0-4322-8105-33e108c968bf",
   "metadata": {},
   "source": [
    "Q2. Given a significance level of 0.05 and the degrees of freedom for the numerator and denominator of an\n",
    "F-distribution, write a Python function that returns the critical F-value for a two-tailed test."
   ]
  },
  {
   "cell_type": "code",
   "execution_count": 9,
   "id": "c4d69d1f-4fdc-44ac-84b9-278d798de893",
   "metadata": {},
   "outputs": [
    {
     "name": "stdout",
     "output_type": "stream",
     "text": [
      "14.884822920641966\n"
     ]
    }
   ],
   "source": [
    "from scipy.stats import f\n",
    "\n",
    "def critical_f_value(alpha, dfn, dfd):\n",
    "    return f.ppf(1 - alpha/2, dfn, dfd)\n",
    "\n",
    "\n",
    "a = critical_f_value(0.05 , 5,3)\n",
    "print(a)"
   ]
  },
  {
   "cell_type": "code",
   "execution_count": null,
   "id": "0e4df844-0a6e-4a8d-81eb-3e18bfd37595",
   "metadata": {},
   "outputs": [],
   "source": []
  },
  {
   "cell_type": "markdown",
   "id": "c35d9c9a-7528-4c55-bc83-0569f4ed82e9",
   "metadata": {},
   "source": [
    "Q3. Write a Python program that generates random samples from two normal distributions with known variances and uses an F-test to determine if the variances are equal. The program should output the F-value, degrees of freedom, and p-value for the test."
   ]
  },
  {
   "cell_type": "code",
   "execution_count": 10,
   "id": "ac42b533-680b-4a14-98ba-83a2988a263e",
   "metadata": {},
   "outputs": [
    {
     "name": "stdout",
     "output_type": "stream",
     "text": [
      "F-value: 1.038535518212783\n",
      "Degrees of freedom: 49 74\n",
      "P-value: 0.5645199676120951\n"
     ]
    }
   ],
   "source": [
    "import numpy as np\n",
    "from scipy.stats import f\n",
    "\n",
    "# Generate random samples\n",
    "n1 = 50\n",
    "n2 = 75\n",
    "mu1 = 0\n",
    "mu2 = 1\n",
    "sigma1 = 2\n",
    "sigma2 = 2\n",
    "data1 = np.random.normal(mu1, sigma1, n1)\n",
    "data2 = np.random.normal(mu2, sigma2, n2)\n",
    "\n",
    "# Perform F-test\n",
    "var1 = np.var(data1, ddof=1)\n",
    "var2 = np.var(data2, ddof=1)\n",
    "f_value = var1 / var2\n",
    "dfn = n1 - 1\n",
    "dfd = n2 - 1\n",
    "p_value = f.cdf(f_value, dfn, dfd)\n",
    "\n",
    "# Output results\n",
    "print(\"F-value:\", f_value)\n",
    "print(\"Degrees of freedom:\", dfn, dfd)\n",
    "print(\"P-value:\", p_value)\n"
   ]
  },
  {
   "cell_type": "code",
   "execution_count": null,
   "id": "6518d9cd-e761-4939-a567-e3bee5bcaf44",
   "metadata": {},
   "outputs": [],
   "source": []
  },
  {
   "cell_type": "markdown",
   "id": "36636c9a-0997-4e4a-ae42-aceb031a95a7",
   "metadata": {},
   "source": [
    "Q4.The variances of two populations are known to be 10 and 15. A sample of 12 observations is taken from\n",
    "each population. Conduct an F-test at the 5% significance level to determine if the variances are\n",
    "significantly different."
   ]
  },
  {
   "cell_type": "code",
   "execution_count": 11,
   "id": "a862ef41-93cf-4f09-b66b-aa6d38bfe60e",
   "metadata": {},
   "outputs": [
    {
     "name": "stdout",
     "output_type": "stream",
     "text": [
      "The variances are not significantly different.\n"
     ]
    }
   ],
   "source": [
    "from scipy.stats import f\n",
    "\n",
    "# Define the parameters\n",
    "n1 = 12  # Sample size of population 1\n",
    "n2 = 12  # Sample size of population 2\n",
    "s1 = 10  # Known population variance of population 1\n",
    "s2 = 15  # Known population variance of population 2\n",
    "alpha = 0.05  # Significance level\n",
    "\n",
    "# Calculate the F-value\n",
    "f_value = s1 / s2\n",
    "\n",
    "# Calculate the degrees of freedom\n",
    "dfn = n1 - 1\n",
    "dfd = n2 - 1\n",
    "\n",
    "# Calculate the p-value\n",
    "p_value = f.cdf(f_value, dfn, dfd)\n",
    "\n",
    "# Determine if the variances are significantly different\n",
    "if p_value < alpha / 2 or p_value > 1 - alpha / 2:\n",
    "    print(\"The variances are significantly different.\")\n",
    "else:\n",
    "    print(\"The variances are not significantly different.\")\n"
   ]
  },
  {
   "cell_type": "code",
   "execution_count": null,
   "id": "52076027-56d3-47b4-ad76-1d1769d9b2b6",
   "metadata": {},
   "outputs": [],
   "source": []
  },
  {
   "cell_type": "markdown",
   "id": "42978586-8d5d-4a05-b097-9ab7189c51c6",
   "metadata": {},
   "source": [
    "Q5. A manufacturer claims that the variance of the diameter of a certain product is 0.005. A sample of 25\n",
    "products is taken, and the sample variance is found to be 0.006. Conduct an F-test at the 1% significance\n",
    "level to determine if the claim is justified."
   ]
  },
  {
   "cell_type": "code",
   "execution_count": 13,
   "id": "e9b441d5-4d33-40dd-bc6c-792ea4485c3c",
   "metadata": {},
   "outputs": [
    {
     "name": "stdout",
     "output_type": "stream",
     "text": [
      "The claim is justified.\n"
     ]
    }
   ],
   "source": [
    "import numpy as np\n",
    "from scipy.stats import f\n",
    "\n",
    "# Define the data\n",
    "n = 25\n",
    "sample_var = 0.006\n",
    "pop_var = 0.005\n",
    "\n",
    "# Calculate the F-value\n",
    "f_value = sample_var / pop_var\n",
    "\n",
    "# Calculate the degrees of freedom\n",
    "dfn = n - 1\n",
    "dfd = 1\n",
    "\n",
    "# Specify the significance level\n",
    "alpha = 0.01\n",
    "\n",
    "# Calculate the p-value\n",
    "p_value = f.cdf(f_value, dfn, dfd)\n",
    "\n",
    "# Determine if the claim is justified\n",
    "if p_value < alpha / 2 or p_value > 1 - alpha / 2:\n",
    "    print(\"The claim is not justified.\")\n",
    "else:\n",
    "    print(\"The claim is justified.\")\n"
   ]
  },
  {
   "cell_type": "code",
   "execution_count": null,
   "id": "3532c56a-3312-4298-b351-255d8ad92d47",
   "metadata": {},
   "outputs": [],
   "source": []
  },
  {
   "cell_type": "markdown",
   "id": "a320b204-da10-4d1e-b299-ee45fd937a8a",
   "metadata": {},
   "source": [
    "Q6. Write a Python function that takes in the degrees of freedom for the numerator and denominator of an\n",
    "F-distribution and calculates the mean and variance of the distribution. The function should return the\n",
    "mean and variance as a tuple."
   ]
  },
  {
   "cell_type": "code",
   "execution_count": 17,
   "id": "a7093f5a-d2cc-436a-b6ad-c9cbdf6c7646",
   "metadata": {},
   "outputs": [
    {
     "data": {
      "text/plain": [
       "(1.6666666666666667, 7.407407407407407)"
      ]
     },
     "execution_count": 17,
     "metadata": {},
     "output_type": "execute_result"
    }
   ],
   "source": [
    "def f_distribution_mean_var(dfn, dfd):\n",
    "    mean = dfd / (dfd - 2)\n",
    "    var = (2 * dfd**2 * (dfn + dfd - 2)) / (dfn * (dfd - 2)**2 * (dfd - 4))\n",
    "    return mean, var\n",
    "\n",
    "\n",
    "\n",
    "a = f_distribution_mean_var(9,5)\n",
    "a"
   ]
  },
  {
   "cell_type": "code",
   "execution_count": null,
   "id": "50c72fd6-83ef-497e-a9b4-2682034fc903",
   "metadata": {},
   "outputs": [],
   "source": []
  },
  {
   "cell_type": "markdown",
   "id": "e1989183-76ad-4773-8564-76d6b44fcc77",
   "metadata": {},
   "source": [
    "Q7. A random sample of 10 measurements is taken from a normal population with unknown variance. The\n",
    "sample variance is found to be 25. Another random sample of 15 measurements is taken from another\n",
    "normal population with unknown variance, and the sample variance is found to be 20. Conduct an F-test\n",
    "at the 10% significance level to determine if the variances are significantly different."
   ]
  },
  {
   "cell_type": "code",
   "execution_count": 18,
   "id": "76f4f9a9-9204-4739-9648-ca921334de72",
   "metadata": {},
   "outputs": [
    {
     "name": "stdout",
     "output_type": "stream",
     "text": [
      "The variances are not significantly different.\n"
     ]
    }
   ],
   "source": [
    "import numpy as np\n",
    "from scipy.stats import f\n",
    "\n",
    "# Define the data\n",
    "n1 = 10\n",
    "n2 = 15\n",
    "s1_squared = 25\n",
    "s2_squared = 20\n",
    "\n",
    "# Calculate the F-value\n",
    "f_value = s1_squared / s2_squared\n",
    "\n",
    "# Calculate the degrees of freedom\n",
    "dfn = n1 - 1\n",
    "dfd = n2 - 1\n",
    "\n",
    "# Specify the significance level\n",
    "alpha = 0.1\n",
    "\n",
    "# Calculate the p-value\n",
    "p_value = f.cdf(f_value, dfn, dfd)\n",
    "\n",
    "# Determine if the variances are significantly different\n",
    "if p_value < alpha / 2 or p_value > 1 - alpha / 2:\n",
    "    print(\"The variances are significantly different.\")\n",
    "else:\n",
    "    print(\"The variances are not significantly different.\")\n"
   ]
  },
  {
   "cell_type": "code",
   "execution_count": null,
   "id": "f60e7bd0-a2af-48b5-b94b-8f79efa9275f",
   "metadata": {},
   "outputs": [],
   "source": []
  },
  {
   "cell_type": "markdown",
   "id": "5c0456f5-5781-455c-9b99-9d784be1e03d",
   "metadata": {},
   "source": [
    "Q8. The following data represent the waiting times in minutes at two different restaurants on a Saturday\n",
    "night: Restaurant A: 24, 25, 28, 23, 22, 20, 27; Restaurant B: 31, 33, 35, 30, 32, 36. Conduct an F-test at the 5%\n",
    "significance level to determine if the variances are significantly different."
   ]
  },
  {
   "cell_type": "code",
   "execution_count": 19,
   "id": "c7686127-e134-4a40-8c7b-079c7c86e6d7",
   "metadata": {},
   "outputs": [
    {
     "name": "stdout",
     "output_type": "stream",
     "text": [
      "The variances are not significantly different.\n"
     ]
    }
   ],
   "source": [
    "import numpy as np\n",
    "from scipy.stats import f\n",
    "\n",
    "# Define the data\n",
    "a = np.array([24, 25, 28, 23, 22, 20, 27])\n",
    "b = np.array([31, 33, 35, 30, 32, 36])\n",
    "\n",
    "# Calculate the sample variances\n",
    "s1_squared = np.var(a, ddof=1)\n",
    "s2_squared = np.var(b, ddof=1)\n",
    "\n",
    "# Calculate the F-value\n",
    "f_value = s1_squared / s2_squared\n",
    "\n",
    "# Calculate the degrees of freedom\n",
    "n1 = len(a)\n",
    "n2 = len(b)\n",
    "dfn = n1 - 1\n",
    "dfd = n2 - 1\n",
    "\n",
    "# Specify the significance level\n",
    "alpha = 0.05\n",
    "\n",
    "# Calculate the p-value\n",
    "p_value = f.cdf(f_value, dfn, dfd)\n",
    "\n",
    "# Determine if the variances are significantly different\n",
    "if p_value < alpha / 2 or p_value > 1 - alpha / 2:\n",
    "    print(\"The variances are significantly different.\")\n",
    "else:\n",
    "    print(\"The variances are not significantly different.\")\n"
   ]
  },
  {
   "cell_type": "code",
   "execution_count": null,
   "id": "8e0e5101-2524-4e28-8595-26d0cb42c165",
   "metadata": {},
   "outputs": [],
   "source": []
  },
  {
   "cell_type": "markdown",
   "id": "11a7c8d5-ffeb-4cfb-ad4a-ebe19c75ef2d",
   "metadata": {},
   "source": [
    "Q9. The following data represent the test scores of two groups of students: Group A: 80, 85, 90, 92, 87, 83;\n",
    "Group B: 75, 78, 82, 79, 81, 84. Conduct an F-test at the 1% significance level to determine if the variances\n",
    "are significantly different."
   ]
  },
  {
   "cell_type": "code",
   "execution_count": 12,
   "id": "24ed0fd0-aaa3-42e1-9232-11dbdc0c482b",
   "metadata": {},
   "outputs": [
    {
     "name": "stdout",
     "output_type": "stream",
     "text": [
      "The variances are not significantly different.\n"
     ]
    }
   ],
   "source": [
    "import numpy as np\n",
    "from scipy.stats import f\n",
    "\n",
    "# Define the data\n",
    "group_a = np.array([80, 85, 90, 92, 87, 83])\n",
    "group_b = np.array([75, 78, 82, 79, 81, 84])\n",
    "\n",
    "# Calculate the variances\n",
    "var_a = np.var(group_a, ddof=1)\n",
    "var_b = np.var(group_b, ddof=1)\n",
    "\n",
    "# Calculate the F-value\n",
    "f_value = var_a / var_b\n",
    "\n",
    "# Calculate the degrees of freedom\n",
    "dfn = len(group_a) - 1\n",
    "dfd = len(group_b) - 1\n",
    "\n",
    "# Specify the significance level\n",
    "alpha = 0.01\n",
    "\n",
    "# Calculate the p-value\n",
    "p_value = f.cdf(f_value, dfn, dfd)\n",
    "\n",
    "# Determine if the variances are significantly different\n",
    "if p_value < alpha / 2 or p_value > 1 - alpha / 2:\n",
    "    print(\"The variances are significantly different.\")\n",
    "else:\n",
    "    print(\"The variances are not significantly different.\")\n"
   ]
  },
  {
   "cell_type": "code",
   "execution_count": null,
   "id": "4710ef89-421a-497a-b6d7-e1eba1356379",
   "metadata": {},
   "outputs": [],
   "source": []
  }
 ],
 "metadata": {
  "kernelspec": {
   "display_name": "Python 3 (ipykernel)",
   "language": "python",
   "name": "python3"
  },
  "language_info": {
   "codemirror_mode": {
    "name": "ipython",
    "version": 3
   },
   "file_extension": ".py",
   "mimetype": "text/x-python",
   "name": "python",
   "nbconvert_exporter": "python",
   "pygments_lexer": "ipython3",
   "version": "3.10.8"
  }
 },
 "nbformat": 4,
 "nbformat_minor": 5
}
